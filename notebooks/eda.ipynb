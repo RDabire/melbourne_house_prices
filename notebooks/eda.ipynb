{
 "cells": [
  {
   "cell_type": "markdown",
   "id": "6a21ae0e",
   "metadata": {},
   "source": [
    "# Purpose\n",
    "Explore the mellbourne housing data to see if we can find features that can predict the house price"
   ]
  },
  {
   "cell_type": "code",
   "execution_count": null,
   "id": "e2e774a6",
   "metadata": {},
   "outputs": [],
   "source": [
    "import kagglehub\n",
    "\n",
    "# Download latest version\n",
    "path = kagglehub.dataset_download(\"dansbecker/melbourne-housing-snapshot\")\n",
    "\n",
    "print(\"Path to dataset files:\", path)"
   ]
  },
  {
   "cell_type": "markdown",
   "id": "f4adda12",
   "metadata": {},
   "source": [
    "# 1. Load Data"
   ]
  },
  {
   "cell_type": "code",
   "execution_count": null,
   "id": "f3745e64",
   "metadata": {},
   "outputs": [],
   "source": [
    "import pandas as pd\n",
    "\n",
    "pd.set_option(\"display.max_columns\", None)\n",
    "pd.set_option(\"display.max_rows\", None)\n",
    "pd.set_option(\"display.width\", 1000)"
   ]
  },
  {
   "cell_type": "code",
   "execution_count": null,
   "id": "cf8533d5",
   "metadata": {},
   "outputs": [],
   "source": [
    "import pandas as pd\n",
    "\n",
    "# Load the dataset into a DataFrame\n",
    "data = pd.read_csv(f\"{path}/melb_data.csv\")"
   ]
  },
  {
   "cell_type": "markdown",
   "id": "fe85a65e",
   "metadata": {},
   "source": [
    "# 2. EDA"
   ]
  },
  {
   "cell_type": "markdown",
   "id": "82ec0c14",
   "metadata": {},
   "source": [
    "Notes on Specific Variables <br>\n",
    "* Rooms: Number of rooms\n",
    "* Price: Price in dollars\n",
    "* Method: S - property sold; SP - property sold prior; PI - property passed in; PN - sold prior not disclosed; SN - sold not disclosed; NB - no bid; VB - vendor bid; W - withdrawn prior to auction; SA - sold after auction; SS - sold after auction price not disclosed. N/A - price or highest bid not available.\n",
    "* Type: br - bedroom(s); h - house,cottage,villa, semi,terrace; u - unit, duplex; t - townhouse; dev site - development site; o res - other residential.\n",
    "* SellerG: Real Estate Agent\n",
    "* Date: Date sold\n",
    "* Distance: Distance from CBD\n",
    "* Regionname: General Region (West, North West, North, North east …etc)\n",
    "* Propertycount: Number of properties that exist in the suburb.\n",
    "* Bedroom2 : Scraped # of Bedrooms (from different source)\n",
    "* Bathroom: Number of Bathrooms\n",
    "* Car: Number of carspots\n",
    "* Landsize: Land Size\n",
    "* BuildingArea: Building Size\n",
    "* CouncilArea: Governing council for the area"
   ]
  },
  {
   "cell_type": "code",
   "execution_count": null,
   "id": "0a6c0d60",
   "metadata": {},
   "outputs": [],
   "source": [
    "data.describe(include=\"all\")"
   ]
  },
  {
   "cell_type": "markdown",
   "id": "2a0343e3",
   "metadata": {},
   "source": [
    "## 2.1 Set datatypes\n",
    "Let's set the correct datatypes before we go further"
   ]
  },
  {
   "cell_type": "code",
   "execution_count": null,
   "id": "5f31c7b0",
   "metadata": {},
   "outputs": [],
   "source": [
    "datatypes = {\n",
    "    \"Suburb\": \"category\",\n",
    "    \"Address\": \"string\",\n",
    "    \"Rooms\": \"int8\",\n",
    "    \"Type\": \"category\",\n",
    "    \"Price\": \"float32\",\n",
    "    \"Method\": \"category\",\n",
    "    \"SellerG\": \"category\",\n",
    "    \"Date\": \"datetime64[ns]\",\n",
    "    \"Distance\": \"float32\",\n",
    "    \"Postcode\": \"category\",\n",
    "    \"Bedroom2\": \"category\",\n",
    "    \"Bathroom\": \"category\",\n",
    "    \"Car\": \"category\",\n",
    "    \"Landsize\": \"float32\",\n",
    "    \"BuildingArea\": \"float32\",\n",
    "    \"YearBuilt\": \"category\",\n",
    "    \"CouncilArea\": \"category\",\n",
    "    \"Lattitude\": \"float32\",\n",
    "    \"Longtitude\": \"float32\",\n",
    "    \"Regionname\": \"category\",\n",
    "    \"Propertycount\": \"int32\",\n",
    "}\n",
    "data = data.astype(datatypes)"
   ]
  },
  {
   "cell_type": "markdown",
   "id": "4b62a3b4",
   "metadata": {},
   "source": [
    "## 2.2 Remove redundant rows\n",
    "Let's remove rows that are duplicated, rows with not house price, lots of na's etc"
   ]
  },
  {
   "cell_type": "code",
   "execution_count": null,
   "id": "4f33db54",
   "metadata": {},
   "outputs": [],
   "source": [
    "# Make a copy of the original data\n",
    "data_interim = data.copy()\n",
    "\n",
    "# Check for duplicate rows\n",
    "print(f\"Dupllicated rows all: {data_interim.duplicated().sum()}\")\n",
    "\n",
    "# Check for duplicated columns\n",
    "print(f\"Duplicated columns: {data_interim.columns.duplicated().sum()}\")\n",
    "\n",
    "# Check for duplicated rows based on when the house was sold, its address, and price\n",
    "dups_subset = data_interim.duplicated(subset=[\"Address\", \"Date\", \"Price\"]).sum()\n",
    "print(f\"Duplicated rows based on Address, Date, Price: {dups_subset}\")\n",
    "\n",
    "# Let's drop duplicated rows\n",
    "data_interim = data.drop_duplicates(subset=[\"Address\", \"Date\", \"Price\"])\n",
    "print(f\"Data shape: {data_interim.shape}\")"
   ]
  },
  {
   "cell_type": "code",
   "execution_count": null,
   "id": "e3abd54b",
   "metadata": {},
   "outputs": [],
   "source": [
    "# Check for missing values\n",
    "print(\n",
    "    f\"Initial Missing Values: {data_interim.isna().sum() / data_interim.shape[0] * 100}\"\n",
    ")\n",
    "\n",
    "# Drop columns with more than 35% missing values\n",
    "threshold = 0.35\n",
    "cols_to_drop = data_interim.columns[\n",
    "    data_interim.isna().sum() / data_interim.shape[0] > threshold\n",
    "]\n",
    "data_interim = data_interim.drop(columns=cols_to_drop)\n",
    "print(f\"Dropped columns: {list(cols_to_drop)}\")\n",
    "\n",
    "# Impute missing values for 'CouncilArea' & 'Car' with mode\n",
    "data_interim[\"CouncilArea\"] = data_interim[\"CouncilArea\"].fillna(\n",
    "    data_interim[\"CouncilArea\"].mode()[0]\n",
    ")\n",
    "data_interim[\"Car\"] = data_interim[\"Car\"].fillna(data_interim[\"Car\"].mode()[0])\n",
    "print(f\"Post Impute Missing Values: {data_interim.isna().sum().sum()}\")\n",
    "\n",
    "\n",
    "print(f\"Data shape after dropping columns: {data_interim.shape}\")"
   ]
  },
  {
   "cell_type": "markdown",
   "id": "1ea7d35b",
   "metadata": {},
   "source": [
    "## 2.2 Initial data visual\n",
    "Let's see which numeric features have strong correlation/association with house prices"
   ]
  },
  {
   "cell_type": "markdown",
   "id": "0eaa30c9",
   "metadata": {},
   "source": [
    "### 2.2.1 All numeric data"
   ]
  },
  {
   "cell_type": "code",
   "execution_count": null,
   "id": "dd2b8964",
   "metadata": {},
   "outputs": [],
   "source": [
    "import seaborn as sns\n",
    "\n",
    "sns.pairplot(data_interim, diag_kind=\"hist\", hue=\"Type\")"
   ]
  },
  {
   "cell_type": "markdown",
   "id": "ad9d6b2f",
   "metadata": {},
   "source": [
    "From the scatterplots, appears to be some signal for predicting price in all the numeric features except Landsize."
   ]
  },
  {
   "cell_type": "markdown",
   "id": "78b9461f",
   "metadata": {},
   "source": [
    "### 2.2.3 Categorical data\n",
    "Let's add some features that may provide a signal and re-try to scatter the data"
   ]
  },
  {
   "cell_type": "code",
   "execution_count": null,
   "id": "761579d0",
   "metadata": {},
   "outputs": [],
   "source": [
    "# Capture road type from the address\n",
    "road_types = {\n",
    "    \"ALLY\": \"ALLEY\",\n",
    "    \"ALWY\": \"ALLEYWAY\",\n",
    "    \"AMBL\": \"AMBLE\",\n",
    "    \"ANCG\": \"ANCHORAGE\",\n",
    "    \"APP\": \"APPROACH\",\n",
    "    \"ARC\": \"ARCADE\",\n",
    "    \"ART\": \"ARTERY\",\n",
    "    \"AVE\": \"AVENUE\",\n",
    "    \"BASN\": \"BASIN\",\n",
    "    \"BCH\": \"BEACH\",\n",
    "    \"BEND\": \"BEND\",\n",
    "    \"BLK\": \"BLOCK\",\n",
    "    \"BVD\": \"BOULEVARD\",\n",
    "    \"BRCE\": \"BRACE\",\n",
    "    \"BRAE\": \"BRAE\",\n",
    "    \"BRK\": \"BREAK\",\n",
    "    \"BDGE\": \"BRIDGE\",\n",
    "    \"BDWY\": \"BROADWAY\",\n",
    "    \"BROW\": \"BROW\",\n",
    "    \"BYPA\": \"BYPASS\",\n",
    "    \"BYWY\": \"BYWAY\",\n",
    "    \"CAUS\": \"CAUSEWAY\",\n",
    "    \"CTR\": \"CENTRE\",\n",
    "    \"CNWY\": \"CENTREWAY\",\n",
    "    \"CH\": \"CHASE\",\n",
    "    \"CIR\": \"CIRCLE\",\n",
    "    \"CLT\": \"CIRCLET\",\n",
    "    \"CCT\": \"CIRCUIT\",\n",
    "    \"CRCS\": \"CIRCUS\",\n",
    "    \"CL\": \"CLOSE\",\n",
    "    \"CLDE\": \"COLONNADE\",\n",
    "    \"CMMN\": \"COMMON\",\n",
    "    \"CON\": \"CONCOURSE\",\n",
    "    \"CPS\": \"COPSE\",\n",
    "    \"CNR\": \"CORNER\",\n",
    "    \"CSO\": \"CORSO\",\n",
    "    \"CT\": \"COURT\",\n",
    "    \"CTYD\": \"COURTYARD\",\n",
    "    \"COVE\": \"COVE\",\n",
    "    \"CRES\": \"CRESCENT\",\n",
    "    \"CRST\": \"CREST\",\n",
    "    \"CRSS\": \"CROSS\",\n",
    "    \"CRSG\": \"CROSSING\",\n",
    "    \"CRD\": \"CROSSROAD\",\n",
    "    \"COWY\": \"CROSSWAY\",\n",
    "    \"CUWY\": \"CRUISEWAY\",\n",
    "    \"CDS\": \"CUL-DE-SAC\",\n",
    "    \"CTTG\": \"CUTTING\",\n",
    "    \"DALE\": \"DALE\",\n",
    "    \"DELL\": \"DELL\",\n",
    "    \"DEVN\": \"DEVIATION\",\n",
    "    \"DIP\": \"DIP\",\n",
    "    \"DSTR\": \"DISTRIBUTOR\",\n",
    "    \"DR\": \"DRIVE\",\n",
    "    \"DRWY\": \"DRIVEWAY\",\n",
    "    \"EDGE\": \"EDGE\",\n",
    "    \"ELB\": \"ELBOW\",\n",
    "    \"END\": \"END\",\n",
    "    \"ENT\": \"ENTRANCE\",\n",
    "    \"ESP\": \"ESPLANADE\",\n",
    "    \"EST\": \"ESTATE\",\n",
    "    \"EXP\": \"EXPRESSWAY\",\n",
    "    \"EXTN\": \"EXTENSION\",\n",
    "    \"FAWY\": \"FAIRWAY\",\n",
    "    \"FTRK\": \"FIRE\",\n",
    "    \"FITR\": \"FIRETRAIL\",\n",
    "    \"FLAT\": \"FLAT\",\n",
    "    \"FOLW\": \"FOLLOW\",\n",
    "    \"FTWY\": \"FOOTWAY\",\n",
    "    \"FSHR\": \"FORESHORE\",\n",
    "    \"FORM\": \"FORMATION\",\n",
    "    \"FWY\": \"FREEWAY\",\n",
    "    \"FRNT\": \"FRONT\",\n",
    "    \"FRTG\": \"FRONTAGE\",\n",
    "    \"GAP\": \"GAP\",\n",
    "    \"GDN\": \"GARDEN\",\n",
    "    \"GTE\": \"GATE\",\n",
    "    \"GDNS\": \"GARDENS\",\n",
    "    \"GTES\": \"GATES\",\n",
    "    \"GLD\": \"GLADE\",\n",
    "    \"GLEN\": \"GLEN\",\n",
    "    \"GRA\": \"GRANGE\",\n",
    "    \"GRN\": \"GREEN\",\n",
    "    \"GRND\": \"GROUND\",\n",
    "    \"GR\": \"GROVE\",\n",
    "    \"GLY\": \"GULLY\",\n",
    "    \"HTS\": \"HEIGHTS\",\n",
    "    \"HRD\": \"HIGHROAD\",\n",
    "    \"HWY\": \"HIGHWAY\",\n",
    "    \"HILL\": \"HILL\",\n",
    "    \"INTG\": \"INTERCHANGE\",\n",
    "    \"INTN\": \"INTERSECTION\",\n",
    "    \"JNC\": \"JUNCTION\",\n",
    "    \"KEY\": \"KEY\",\n",
    "    \"LDG\": \"LANDING\",\n",
    "    \"LANE\": \"LANE\",\n",
    "    \"LNWY\": \"LANEWAY\",\n",
    "    \"LEES\": \"LEES\",\n",
    "    \"LINE\": \"LINE\",\n",
    "    \"LINK\": \"LINK\",\n",
    "    \"LT\": \"LITTLE\",\n",
    "    \"LKT\": \"LOOKOUT\",\n",
    "    \"LOOP\": \"LOOP\",\n",
    "    \"LWR\": \"LOWER\",\n",
    "    \"MALL\": \"MALL\",\n",
    "    \"MNDR\": \"MEANDER\",\n",
    "    \"MEW\": \"MEW\",\n",
    "    \"MEWS\": \"MEWS\",\n",
    "    \"MWY\": \"MOTORWAY\",\n",
    "    \"MT\": \"MOUNT\",\n",
    "    \"NOOK\": \"NOOK\",\n",
    "    \"OTLK\": \"OUTLOOK\",\n",
    "    \"PDE\": \"PARADE\",\n",
    "    \"PARK\": \"PARK\",\n",
    "    \"PKLD\": \"PARKLANDS\",\n",
    "    \"PKWY\": \"PARKWAY\",\n",
    "    \"PART\": \"PART\",\n",
    "    \"PASS\": \"PASS\",\n",
    "    \"PATH\": \"PATH\",\n",
    "    \"PHWY\": \"PATHWAY\",\n",
    "    \"PIAZ\": \"PIAZZA\",\n",
    "    \"PL\": \"PLACE\",\n",
    "    \"PLAT\": \"PLATEAU\",\n",
    "    \"PLZA\": \"PLAZA\",\n",
    "    \"PKT\": \"POCKET\",\n",
    "    \"PNT\": \"POINT\",\n",
    "    \"PORT\": \"PORT\",\n",
    "    \"PROM\": \"PROMENADE\",\n",
    "    \"QUAD\": \"QUAD\",\n",
    "    \"QDGL\": \"QUADRANGLE\",\n",
    "    \"QDRT\": \"QUADRANT\",\n",
    "    \"QY\": \"QUAY\",\n",
    "    \"QYS\": \"QUAYS\",\n",
    "    \"RMBL\": \"RAMBLE\",\n",
    "    \"RAMP\": \"RAMP\",\n",
    "    \"RNGE\": \"RANGE\",\n",
    "    \"RCH\": \"REACH\",\n",
    "    \"RES\": \"RESERVE\",\n",
    "    \"REST\": \"REST\",\n",
    "    \"RTT\": \"RETREAT\",\n",
    "    \"RIDE\": \"RIDE\",\n",
    "    \"RDGE\": \"RIDGE\",\n",
    "    \"RGWY\": \"RIDGEWAY\",\n",
    "    \"ROWY\": \"RIGHT\",\n",
    "    \"RING\": \"RING\",\n",
    "    \"RISE\": \"RISE\",\n",
    "    \"RVR\": \"RIVER\",\n",
    "    \"RVWY\": \"RIVERWAY\",\n",
    "    \"RVRA\": \"RIVIERA\",\n",
    "    \"RD\": \"ROAD\",\n",
    "    \"RDS\": \"ROADS\",\n",
    "    \"RDSD\": \"ROADSIDE\",\n",
    "    \"RDWY\": \"ROADWAY\",\n",
    "    \"RNDE\": \"RONDE\",\n",
    "    \"RSBL\": \"ROSEBOWL\",\n",
    "    \"RTY\": \"ROTARY\",\n",
    "    \"RND\": \"ROUND\",\n",
    "    \"RTE\": \"ROUTE\",\n",
    "    \"ROW\": \"ROW\",\n",
    "    \"RUE\": \"RUE\",\n",
    "    \"RUN\": \"RUN\",\n",
    "    \"SWY\": \"SERVICE\",\n",
    "    \"SDNG\": \"SIDING\",\n",
    "    \"SLPE\": \"SLOPE\",\n",
    "    \"SND\": \"SOUND\",\n",
    "    \"SPUR\": \"SPUR\",\n",
    "    \"SQ\": \"SQUARE\",\n",
    "    \"STRS\": \"STAIRS\",\n",
    "    \"SHWY\": \"STATE\",\n",
    "    \"STPS\": \"STEPS\",\n",
    "    \"STRA\": \"STRAND\",\n",
    "    \"ST\": \"STREET\",\n",
    "    \"STRP\": \"STRIP\",\n",
    "    \"SBWY\": \"SUBWAY\",\n",
    "    \"TARN\": \"TARN\",\n",
    "    \"TCE\": \"TERRACE\",\n",
    "    \"THOR\": \"THOROUGHFARE\",\n",
    "    \"TLWY\": \"TOLLWAY\",\n",
    "    \"TOP\": \"TOP\",\n",
    "    \"TOR\": \"TOR\",\n",
    "    \"TWRS\": \"TOWERS\",\n",
    "    \"TRK\": \"TRACK\",\n",
    "    \"TRL\": \"TRAIL\",\n",
    "    \"TRLR\": \"TRAILER\",\n",
    "    \"TRI\": \"TRIANGLE\",\n",
    "    \"TKWY\": \"TRUNKWAY\",\n",
    "    \"TURN\": \"TURN\",\n",
    "    \"UPAS\": \"UNDERPASS\",\n",
    "    \"UPR\": \"UPPER\",\n",
    "    \"VALE\": \"VALE\",\n",
    "    \"VDCT\": \"VIADUCT\",\n",
    "    \"VIEW\": \"VIEW\",\n",
    "    \"VLLS\": \"VILLAS\",\n",
    "    \"VSTA\": \"VISTA\",\n",
    "    \"WADE\": \"WADE\",\n",
    "    \"WALK\": \"WALK\",\n",
    "    \"WKWY\": \"WALKWAY\",\n",
    "    \"WAY\": \"WAY\",\n",
    "    \"WHRF\": \"WHARF\",\n",
    "    \"WYND\": \"WYND\",\n",
    "    \"YARD\": \"YARD\",\n",
    "}\n",
    "\n",
    "\n",
    "def set_road_type(address: str) -> str:\n",
    "    \"\"\"Extract road type from address string.\"\"\"\n",
    "    road_type = address.split(\" \")[-1]\n",
    "    if len(road_type) == 1:\n",
    "        road_type = address.split(\" \")[-2] + \" \" + address.split(\" \")[-1]\n",
    "    if \"St\" in road_type:\n",
    "        road_type = \"St\"\n",
    "    if \"Rd\" in road_type:\n",
    "        road_type = \"Rd\"\n",
    "    if \"Pl\" in road_type:\n",
    "        road_type = \"Pl\"\n",
    "    if \"Pde\" in road_type:\n",
    "        road_type = \"Pde\"\n",
    "    if \"Cr\" in road_type:\n",
    "        road_type = \"Cres\"\n",
    "    if \"Wy\" in road_type:\n",
    "        road_type = \"Way\"\n",
    "    if \"La\" in road_type:\n",
    "        road_type = \"Lane\"\n",
    "    if \"Av\" in road_type:\n",
    "        road_type = \"Ave\"\n",
    "    if \"The\" in address and len(address.split(\" \")) == 3:\n",
    "        road_type = \"Other\"\n",
    "    return road_types.get(road_type.upper(), \"OTHER\")\n",
    "\n",
    "\n",
    "data_interim.loc[:, \"RoadType\"] = data_interim[\"Address\"].apply(\n",
    "    lambda x: set_road_type(str(x))\n",
    ")\n",
    "data_interim = data_interim.astype({\"RoadType\": \"category\"})"
   ]
  },
  {
   "cell_type": "code",
   "execution_count": null,
   "id": "f1746ca7",
   "metadata": {},
   "outputs": [],
   "source": [
    "import matplotlib.pyplot as plt\n",
    "\n",
    "# 1. Create a 2x2 subplot grid\n",
    "fig, axes = plt.subplots(nrows=2, ncols=2, figsize=(16, 12))\n",
    "\n",
    "# 2. Draw each violin plot on its specific axis using the 'ax' parameter\n",
    "sns.violinplot(data=data_interim, x=\"Type\", y=\"Price\", ax=axes[0, 0])\n",
    "axes[0, 0].set_title(\"Price Distribution by Type\")\n",
    "\n",
    "sns.violinplot(data=data_interim, x=\"Method\", y=\"Price\", ax=axes[0, 1])\n",
    "axes[0, 1].set_title(\"Price Distribution by Method\")\n",
    "\n",
    "sns.violinplot(data=data_interim, x=\"Regionname\", y=\"Price\", ax=axes[1, 0])\n",
    "axes[1, 0].set_title(\"Price Distribution by Regionname\")\n",
    "# Optional: Rotate labels if 'Regionname' has many categories\n",
    "axes[1, 0].tick_params(axis=\"x\", rotation=45)\n",
    "\n",
    "sns.violinplot(data=data_interim, x=\"RoadType\", y=\"Price\", ax=axes[1, 1])\n",
    "axes[1, 1].set_title(\"Price Distribution by RoadType\")\n",
    "\n",
    "# 3. Adjust the layout to prevent titles/labels from overlapping\n",
    "plt.tight_layout()\n",
    "\n",
    "# 4. Display the plot\n",
    "plt.show()"
   ]
  },
  {
   "cell_type": "markdown",
   "id": "11d7c0ca",
   "metadata": {},
   "source": [
    "From the violin plots, appears to be some signal for predicting price in Type which have much tigher range in units and type. Additionally seems to be some signal on the road types which is a positive sign seeing it was engineered"
   ]
  },
  {
   "cell_type": "markdown",
   "id": "4cdb91e7",
   "metadata": {},
   "source": [
    "# 3. Regression\n",
    "Let's attempt regression on the following ML algorithms to select the best algorithm for predicting house prices\n"
   ]
  },
  {
   "cell_type": "markdown",
   "id": "43bc7b93",
   "metadata": {},
   "source": [
    "## 3.1 Pick Features"
   ]
  },
  {
   "cell_type": "code",
   "execution_count": null,
   "id": "39e6f579",
   "metadata": {},
   "outputs": [],
   "source": [
    "## Remove string or date columns for modeling\n",
    "cols_to_remove = data_interim.select_dtypes(\n",
    "    include=[\"string\", \"datetime64[ns]\"]\n",
    ").columns\n",
    "data_interim = data_interim.drop(columns=cols_to_remove)"
   ]
  },
  {
   "cell_type": "code",
   "execution_count": null,
   "id": "3e7733a5",
   "metadata": {},
   "outputs": [],
   "source": [
    "categorical_cols = data_interim.select_dtypes(include=\"category\").columns\n",
    "numeric_cols = data_interim.select_dtypes(include=[\"number\"]).columns\n",
    "target = [\"Price\"]\n",
    "print(\"Categorical columns:\", list(categorical_cols))\n",
    "print(\"Numeric columns:\", list(numeric_cols))\n",
    "print(\n",
    "    \"Categorical + Numeric == Original Shape:\",\n",
    "    len(categorical_cols) + len(numeric_cols) == data_interim.shape[1],\n",
    ")"
   ]
  },
  {
   "cell_type": "markdown",
   "id": "56e466e7",
   "metadata": {},
   "source": [
    "## 3.2 Transform Data"
   ]
  },
  {
   "cell_type": "code",
   "execution_count": null,
   "id": "51ce3979",
   "metadata": {},
   "outputs": [],
   "source": [
    "## Scale numeric features\n",
    "from sklearn.preprocessing import StandardScaler\n",
    "\n",
    "# create scaler\n",
    "scaler = StandardScaler()\n",
    "\n",
    "# apply transform\n",
    "standardized_data = scaler.fit_transform(data_interim[numeric_cols])\n",
    "standardized_data = pd.DataFrame(\n",
    "    standardized_data,\n",
    "    columns=scaler.get_feature_names_out(numeric_cols),\n",
    "    index=data_interim.index,\n",
    ")"
   ]
  },
  {
   "cell_type": "code",
   "execution_count": null,
   "id": "54fe1737",
   "metadata": {},
   "outputs": [],
   "source": [
    "## Encode categorical features\n",
    "from sklearn.preprocessing import OneHotEncoder\n",
    "\n",
    "# create encoder\n",
    "encoder = OneHotEncoder(sparse_output=False, handle_unknown=\"ignore\")\n",
    "# fit and transform\n",
    "encoded_data = encoder.fit_transform(data_interim[categorical_cols])\n",
    "encoded_data = pd.DataFrame(\n",
    "    encoded_data,\n",
    "    columns=encoder.get_feature_names_out(categorical_cols),\n",
    "    index=data_interim.index,\n",
    ")"
   ]
  },
  {
   "cell_type": "code",
   "execution_count": null,
   "id": "1a9b18e4",
   "metadata": {},
   "outputs": [],
   "source": [
    "# Combine standardized numeric data and encoded categorical data\n",
    "data_transformed = pd.concat([standardized_data, encoded_data], axis=1)"
   ]
  },
  {
   "cell_type": "markdown",
   "id": "2a16b96d",
   "metadata": {},
   "source": [
    "## 3.3 Split Data"
   ]
  },
  {
   "cell_type": "code",
   "execution_count": null,
   "id": "fa2543f2",
   "metadata": {},
   "outputs": [],
   "source": [
    "features = data_transformed.columns.tolist()\n",
    "features = [col for col in features if col != \"Price\"]\n",
    "target = [\"Price\"]"
   ]
  },
  {
   "cell_type": "code",
   "execution_count": null,
   "id": "1afbeaa3",
   "metadata": {},
   "outputs": [],
   "source": [
    "from sklearn.model_selection import train_test_split\n",
    "\n",
    "X_train, X_test, y_train, y_test = train_test_split(\n",
    "    data_transformed[features], data_transformed[target], test_size=0.2, random_state=42\n",
    ")"
   ]
  },
  {
   "cell_type": "markdown",
   "id": "e2556e74",
   "metadata": {},
   "source": [
    "## 3.3 Fit Data\n",
    "Will fit different models with their default settings to gauge quickly which model offers the best score before picking one and tunning the hyperparamters."
   ]
  },
  {
   "cell_type": "markdown",
   "id": "850d91be",
   "metadata": {},
   "source": [
    "### 3.3.1 Linear Regression"
   ]
  },
  {
   "cell_type": "code",
   "execution_count": null,
   "id": "bd7a6738",
   "metadata": {},
   "outputs": [],
   "source": [
    "from sklearn.linear_model import LinearRegression\n",
    "\n",
    "lr_model = LinearRegression().fit(X_train, y_train)\n",
    "coefficients = pd.Series(lr_model.coef_[0], index=features).sort_values()\n",
    "\n",
    "print(f\"Model Score (Training): {lr_model.score(X_train, y_train)}\")\n",
    "print(f\"Model Score (Testing): {lr_model.score(X_test, y_test)}\")"
   ]
  },
  {
   "cell_type": "code",
   "execution_count": null,
   "id": "ecfd832e",
   "metadata": {},
   "outputs": [],
   "source": [
    "import matplotlib.pyplot as plt\n",
    "import seaborn as sns\n",
    "\n",
    "# 1. Create a new dictionary to hold the *grouped* importances\n",
    "grouped_importance = {}\n",
    "\n",
    "# 2. Add the numeric features (we just take their absolute value)\n",
    "for col in numeric_cols:\n",
    "    if col in coefficients:\n",
    "        grouped_importance[col] = abs(coefficients[col])\n",
    "\n",
    "# 3. Group and sum the categorical features\n",
    "for col in categorical_cols:\n",
    "    # Find all OHE columns that start with this category name (e.g., \"Regionname_...\")\n",
    "    ohe_cols = [c for c in coefficients.index if c.startswith(col + \"_\")]\n",
    "\n",
    "    # Sum the absolute values of all their coefficients\n",
    "    total_cat_importance = coefficients[ohe_cols].abs().sum()\n",
    "\n",
    "    # Add to our dictionary\n",
    "    grouped_importance[col] = total_cat_importance\n",
    "\n",
    "# 4. Convert to a Series, sort, and plot\n",
    "grouped_coef_series = pd.Series(grouped_importance).sort_values(ascending=False)\n",
    "\n",
    "plt.figure(figsize=(10, 6))\n",
    "sns.barplot(x=grouped_coef_series.values, y=grouped_coef_series.index, orient=\"h\")\n",
    "plt.title(\"Grouped Feature Importance (Sum of Abs(Coefficients))\")\n",
    "plt.xlabel(\"Total Importance\")\n",
    "plt.ylabel(\"Original Feature\")\n",
    "plt.show()"
   ]
  },
  {
   "cell_type": "markdown",
   "id": "f6c3a03b",
   "metadata": {},
   "source": [
    "Interesingly the most important predictor of house prices in Melbourne is the real eastate agent. It is suprising as my initial thoughts would have been suburb or distance to city. I suppose it makes sense as certain agents only sell at certain locations"
   ]
  },
  {
   "cell_type": "markdown",
   "id": "3894783d",
   "metadata": {},
   "source": [
    "### 3.3.2 Random Forest"
   ]
  },
  {
   "cell_type": "code",
   "execution_count": null,
   "id": "0823a9a0",
   "metadata": {},
   "outputs": [],
   "source": [
    "from sklearn.ensemble import RandomForestRegressor\n",
    "\n",
    "rf_model = RandomForestRegressor(random_state=42).fit(X_train, y_train)\n",
    "print(f\"Model Score (Training): {rf_model.score(X_train, y_train)}\")\n",
    "print(f\"Model Score (Testing): {rf_model.score(X_test, y_test)}\")"
   ]
  },
  {
   "cell_type": "code",
   "execution_count": null,
   "id": "bab96abe",
   "metadata": {},
   "outputs": [],
   "source": [
    "# from sklearn.model_selection import RandomizedSearchCV\n",
    "\n",
    "# # 1. Define the model\n",
    "# rf_model_2 = RandomForestRegressor(random_state=42)\n",
    "\n",
    "# # 2. Define your wide parameter grid\n",
    "# param_grid_random = {\n",
    "#     \"n_estimators\": [100, 300, 500],\n",
    "#     \"max_features\": [0.5, \"sqrt\", 1.0],  # For regression, '1.0' is the default\n",
    "#     \"max_depth\": [10, 20, 30, None],\n",
    "#     \"min_samples_leaf\": [1, 2, 4],\n",
    "#     \"min_samples_split\": [2, 5, 10],\n",
    "# }\n",
    "\n",
    "# # 3. Set up the Random Search\n",
    "# # n_iter=25 means it will try 25 different random combinations\n",
    "# # cv=5 is 5-fold cross-validation\n",
    "# # n_jobs=-1 uses all the computer's cores to run faster\n",
    "# rf_random_search = RandomizedSearchCV(\n",
    "#     estimator=rf_model_2,\n",
    "#     param_distributions=param_grid_random,\n",
    "#     n_iter=25,\n",
    "#     cv=5,\n",
    "#     verbose=2,\n",
    "#     random_state=42,\n",
    "#     n_jobs=-1,\n",
    "# )\n",
    "\n",
    "# # 4. Run the search\n",
    "# rf_random_search.fit(X_train, y_train)"
   ]
  },
  {
   "cell_type": "code",
   "execution_count": null,
   "id": "6693b3c7",
   "metadata": {},
   "outputs": [],
   "source": [
    "rf_random_search.best_params_"
   ]
  },
  {
   "cell_type": "code",
   "execution_count": null,
   "id": "6fb4f897",
   "metadata": {},
   "outputs": [],
   "source": [
    "best_params = {\n",
    "    \"n_estimators\": 100,\n",
    "    \"min_samples_split\": 5,\n",
    "    \"min_samples_leaf\": 2,\n",
    "    \"max_features\": 0.5,\n",
    "    \"max_depth\": 20,\n",
    "}"
   ]
  },
  {
   "cell_type": "code",
   "execution_count": null,
   "id": "985f68b1",
   "metadata": {},
   "outputs": [],
   "source": [
    "rf_model_final = RandomForestRegressor(random_state=42, **best_params).fit(\n",
    "    X_train, y_train\n",
    ")\n",
    "print(f\"Model Score (Training): {rf_model_final.score(X_train, y_train)}\")\n",
    "print(f\"Model Score (Testing): {rf_model_final.score(X_test, y_test)}\")"
   ]
  },
  {
   "cell_type": "markdown",
   "id": "9cb7afa2",
   "metadata": {},
   "source": [
    "As expected, the tree based regressors are an improvement over the simpler linear regression model. It will be interesting to see how much more boost in performance we can gain from the gradient boosting model"
   ]
  },
  {
   "cell_type": "markdown",
   "id": "22bbccc8",
   "metadata": {},
   "source": [
    "### 3.3.3 Gradient boosting (light gbm)"
   ]
  },
  {
   "cell_type": "code",
   "execution_count": null,
   "id": "04075d13",
   "metadata": {},
   "outputs": [],
   "source": [
    "from lightgbm import LGBMRegressor\n",
    "\n",
    "lgr = LGBMRegressor().fit(X_train, y_train)\n",
    "print(f\"Model Score (Training): {lgr.score(X_train, y_train)}\")\n",
    "print(f\"Model Score (Testing): {lgr.score(X_test, y_test)}\")"
   ]
  }
 ],
 "metadata": {
  "kernelspec": {
   "display_name": "melbourne-house-prices",
   "language": "python",
   "name": "python3"
  },
  "language_info": {
   "codemirror_mode": {
    "name": "ipython",
    "version": 3
   },
   "file_extension": ".py",
   "mimetype": "text/x-python",
   "name": "python",
   "nbconvert_exporter": "python",
   "pygments_lexer": "ipython3",
   "version": "3.10.7"
  }
 },
 "nbformat": 4,
 "nbformat_minor": 5
}
